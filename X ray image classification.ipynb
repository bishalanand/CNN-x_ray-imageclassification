{
 "cells": [
  {
   "cell_type": "code",
   "execution_count": 1,
   "id": "3321e0ce-eade-4890-986a-f88fb20c12d2",
   "metadata": {},
   "outputs": [],
   "source": [
    "import tensorflow as tf"
   ]
  },
  {
   "cell_type": "code",
   "execution_count": 2,
   "id": "d5097119-645e-4647-a38a-8a0512311f63",
   "metadata": {},
   "outputs": [
    {
     "name": "stdout",
     "output_type": "stream",
     "text": [
      "Found 5226 files belonging to 2 classes.\n",
      "Found 16 files belonging to 2 classes.\n",
      "Found 624 files belonging to 2 classes.\n"
     ]
    }
   ],
   "source": [
    "train_dir=r\"C:\\Users\\bisha\\Downloads\\chest_xray-20250726T110654Z-1-001\\chest_xray\\train\"\n",
    "test_dir=r\"C:\\Users\\bisha\\Downloads\\chest_xray-20250726T110654Z-1-001\\chest_xray\\test\"\n",
    "valid_dir=r\"C:\\Users\\bisha\\Downloads\\chest_xray-20250726T110654Z-1-001\\chest_xray\\val\"\n",
    "\n",
    "train_ds = tf.keras.preprocessing.image_dataset_from_directory(\n",
    "    train_dir,\n",
    "    image_size=(224, 224),  # resize images\n",
    "    batch_size=32,\n",
    "    color_mode=\"grayscale\"  # since X-rays are grayscale\n",
    ")\n",
    "\n",
    "# Load validation data\n",
    "val_ds = tf.keras.preprocessing.image_dataset_from_directory(\n",
    "    valid_dir,\n",
    "    image_size=(224, 224),\n",
    "    batch_size=32,\n",
    "    color_mode=\"grayscale\"\n",
    ")\n",
    "\n",
    "# Load test data\n",
    "test_ds = tf.keras.preprocessing.image_dataset_from_directory(\n",
    "    test_dir,\n",
    "    image_size=(224, 224),\n",
    "    batch_size=32,\n",
    "    color_mode=\"grayscale\"\n",
    ")"
   ]
  },
  {
   "cell_type": "code",
   "execution_count": 3,
   "id": "c89f0147-5620-4311-86bc-932ea8d5b969",
   "metadata": {},
   "outputs": [
    {
     "name": "stdout",
     "output_type": "stream",
     "text": [
      "Class Names: ['NORMAL', 'PNEUMONIA']\n"
     ]
    }
   ],
   "source": [
    "print(\"Class Names:\", train_ds.class_names)"
   ]
  },
  {
   "cell_type": "code",
   "execution_count": 4,
   "id": "28c85218-5c81-43a6-b9f8-dbcc747e4608",
   "metadata": {},
   "outputs": [],
   "source": [
    "from tensorflow.keras import layers\n",
    "\n",
    "normalization_layer = layers.Rescaling(1./255)\n",
    "\n",
    "train_ds = train_ds.map(lambda x, y: (normalization_layer(x), y))\n",
    "val_ds   = val_ds.map(lambda x, y: (normalization_layer(x), y))\n",
    "test_ds  = test_ds.map(lambda x, y: (normalization_layer(x), y))\n"
   ]
  },
  {
   "cell_type": "code",
   "execution_count": 5,
   "id": "6056e6d7-6b72-41b4-8936-96145048dc86",
   "metadata": {},
   "outputs": [],
   "source": [
    "#Applying augmentation to prevent overfitting\n",
    "data_augmentation = tf.keras.Sequential([\n",
    "    layers.RandomFlip(\"horizontal\"),       # flip left-right\n",
    "    layers.RandomRotation(0.1),            # rotate ±10%\n",
    "    layers.RandomZoom(0.1),                # zoom in/out\n",
    "    layers.RandomContrast(0.1)             # change contrast\n",
    "])"
   ]
  },
  {
   "cell_type": "code",
   "execution_count": 6,
   "id": "8f226eda-87b8-4312-94be-9e6fb6b63dbf",
   "metadata": {},
   "outputs": [],
   "source": [
    "import tensorflow as tf\n",
    "from tensorflow.keras import layers, models"
   ]
  },
  {
   "cell_type": "code",
   "execution_count": 7,
   "id": "16f6eb3d-18d0-4d59-a535-a423bb54fb69",
   "metadata": {},
   "outputs": [
    {
     "name": "stderr",
     "output_type": "stream",
     "text": [
      "C:\\Users\\bisha\\AppData\\Roaming\\Python\\Python312\\site-packages\\keras\\src\\layers\\convolutional\\base_conv.py:113: UserWarning: Do not pass an `input_shape`/`input_dim` argument to a layer. When using Sequential models, prefer using an `Input(shape)` object as the first layer in the model instead.\n",
      "  super().__init__(activity_regularizer=activity_regularizer, **kwargs)\n"
     ]
    }
   ],
   "source": [
    "model = models.Sequential([\n",
    "    data_augmentation,\n",
    "\n",
    "    layers.Conv2D(32, (3,3), activation='relu', input_shape=(224,224,1)),\n",
    "    layers.MaxPooling2D((2,2)),\n",
    "\n",
    "    layers.Conv2D(64, (3,3), activation='relu'),\n",
    "    layers.MaxPooling2D((2,2)),\n",
    "\n",
    "    layers.Conv2D(128, (3,3), activation='relu'),\n",
    "    layers.MaxPooling2D((2,2)),\n",
    "\n",
    "    layers.Flatten(),\n",
    "    layers.Dense(128, activation='relu'),\n",
    "    layers.Dropout(0.5),\n",
    "    layers.Dense(1, activation='sigmoid')   # binary classification\n",
    "])"
   ]
  },
  {
   "cell_type": "code",
   "execution_count": 8,
   "id": "03ba9f67-663f-42dc-9cf4-0b9e0938a61a",
   "metadata": {},
   "outputs": [],
   "source": [
    "model.compile(\n",
    "    optimizer='adam',\n",
    "    loss='binary_crossentropy',\n",
    "    metrics=['accuracy']\n",
    ")"
   ]
  },
  {
   "cell_type": "code",
   "execution_count": null,
   "id": "ec819218-3e8b-4bfb-8d34-9864cb52b142",
   "metadata": {},
   "outputs": [],
   "source": []
  }
 ],
 "metadata": {
  "kernelspec": {
   "display_name": "Python 3 (ipykernel)",
   "language": "python",
   "name": "python3"
  },
  "language_info": {
   "codemirror_mode": {
    "name": "ipython",
    "version": 3
   },
   "file_extension": ".py",
   "mimetype": "text/x-python",
   "name": "python",
   "nbconvert_exporter": "python",
   "pygments_lexer": "ipython3",
   "version": "3.12.7"
  }
 },
 "nbformat": 4,
 "nbformat_minor": 5
}
